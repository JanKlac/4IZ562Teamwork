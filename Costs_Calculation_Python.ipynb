{
 "cells": [
  {
   "cell_type": "markdown",
   "id": "a60abc26-9749-41a8-aedb-58cb1fd64e29",
   "metadata": {},
   "source": [
    "# Costs Calculation"
   ]
  },
  {
   "cell_type": "code",
   "execution_count": 1,
   "id": "b43b48f5-b714-4f01-b70e-d2ef66064a1e",
   "metadata": {},
   "outputs": [],
   "source": [
    "import pymysql.cursors\n",
    "import numpy as np\n",
    "import matplotlib.pyplot as plt\n",
    "from pandas import DataFrame\n",
    "from sqlalchemy import create_engine\n",
    "import re\n",
    "import operator"
   ]
  },
  {
   "cell_type": "code",
   "execution_count": 5,
   "id": "4c5ad6e7-e7dc-4cba-9463-f473dda56ab0",
   "metadata": {},
   "outputs": [],
   "source": [
    "server = \"localhost\"\n",
    "user = \"student\"\n",
    "pwd = \"student123\"\n",
    "db = \"4iz562\""
   ]
  },
  {
   "cell_type": "code",
   "execution_count": 6,
   "id": "2e54e0f7-24ae-454b-9548-f62141676d18",
   "metadata": {},
   "outputs": [],
   "source": [
    "def query(sql):\n",
    "    engine = create_engine('mysql+pymysql://'+user+':'+pwd+'@'+server+'/'+db)\n",
    "    connection = engine.connect()\n",
    "    result = connection.execute(sql)\n",
    "    table = DataFrame(result.fetchall())\n",
    "    table.columns = result.keys()\n",
    "    connection.close()\n",
    "    engine.dispose()\n",
    "    return table"
   ]
  },
  {
   "cell_type": "code",
   "execution_count": 7,
   "id": "a7d0de8c-289d-434e-b939-bc5afa4241c0",
   "metadata": {},
   "outputs": [
    {
     "data": {
      "text/html": [
       "<div>\n",
       "<style scoped>\n",
       "    .dataframe tbody tr th:only-of-type {\n",
       "        vertical-align: middle;\n",
       "    }\n",
       "\n",
       "    .dataframe tbody tr th {\n",
       "        vertical-align: top;\n",
       "    }\n",
       "\n",
       "    .dataframe thead th {\n",
       "        text-align: right;\n",
       "    }\n",
       "</style>\n",
       "<table border=\"1\" class=\"dataframe\">\n",
       "  <thead>\n",
       "    <tr style=\"text-align: right;\">\n",
       "      <th></th>\n",
       "      <th>CHAR_SEM_ACC</th>\n",
       "      <th>CHAR_SYN_ACC</th>\n",
       "      <th>CHAR_COM</th>\n",
       "      <th>CHAR_INT_CON</th>\n",
       "      <th>CHAR_EXT_CON</th>\n",
       "    </tr>\n",
       "  </thead>\n",
       "  <tbody>\n",
       "    <tr>\n",
       "      <th>0</th>\n",
       "      <td>1.0000000000</td>\n",
       "      <td>1.0000000000</td>\n",
       "      <td>1.0000000000</td>\n",
       "      <td>1.0000000000</td>\n",
       "      <td>1.0000000000</td>\n",
       "    </tr>\n",
       "    <tr>\n",
       "      <th>1</th>\n",
       "      <td>1.0000000000</td>\n",
       "      <td>1.0000000000</td>\n",
       "      <td>1.0000000000</td>\n",
       "      <td>1.0000000000</td>\n",
       "      <td>1.0000000000</td>\n",
       "    </tr>\n",
       "    <tr>\n",
       "      <th>2</th>\n",
       "      <td>1.0000000000</td>\n",
       "      <td>1.0000000000</td>\n",
       "      <td>1.0000000000</td>\n",
       "      <td>1.0000000000</td>\n",
       "      <td>1.0000000000</td>\n",
       "    </tr>\n",
       "    <tr>\n",
       "      <th>3</th>\n",
       "      <td>1.0000000000</td>\n",
       "      <td>1.0000000000</td>\n",
       "      <td>1.0000000000</td>\n",
       "      <td>1.0000000000</td>\n",
       "      <td>1.0000000000</td>\n",
       "    </tr>\n",
       "    <tr>\n",
       "      <th>4</th>\n",
       "      <td>1.0000000000</td>\n",
       "      <td>1.0000000000</td>\n",
       "      <td>1.0000000000</td>\n",
       "      <td>1.0000000000</td>\n",
       "      <td>1.0000000000</td>\n",
       "    </tr>\n",
       "  </tbody>\n",
       "</table>\n",
       "</div>"
      ],
      "text/plain": [
       "   CHAR_SEM_ACC  CHAR_SYN_ACC      CHAR_COM  CHAR_INT_CON  CHAR_EXT_CON\n",
       "0  1.0000000000  1.0000000000  1.0000000000  1.0000000000  1.0000000000\n",
       "1  1.0000000000  1.0000000000  1.0000000000  1.0000000000  1.0000000000\n",
       "2  1.0000000000  1.0000000000  1.0000000000  1.0000000000  1.0000000000\n",
       "3  1.0000000000  1.0000000000  1.0000000000  1.0000000000  1.0000000000\n",
       "4  1.0000000000  1.0000000000  1.0000000000  1.0000000000  1.0000000000"
      ]
     },
     "execution_count": 7,
     "metadata": {},
     "output_type": "execute_result"
    }
   ],
   "source": [
    "C = query(\"select CHAR_SEM_ACC, CHAR_SYN_ACC, CHAR_COM, CHAR_INT_CON, CHAR_EXT_CON from DQM_MDR\")\n",
    "C.head()"
   ]
  },
  {
   "cell_type": "code",
   "execution_count": 8,
   "id": "1f34160b-3916-4c65-9d6b-40b5a2c8290f",
   "metadata": {},
   "outputs": [],
   "source": [
    "X=C.fillna(0)"
   ]
  },
  {
   "cell_type": "code",
   "execution_count": 9,
   "id": "eb06cf58-f9c3-4dae-be24-4200645263ec",
   "metadata": {},
   "outputs": [
    {
     "data": {
      "text/html": [
       "<div>\n",
       "<style scoped>\n",
       "    .dataframe tbody tr th:only-of-type {\n",
       "        vertical-align: middle;\n",
       "    }\n",
       "\n",
       "    .dataframe tbody tr th {\n",
       "        vertical-align: top;\n",
       "    }\n",
       "\n",
       "    .dataframe thead th {\n",
       "        text-align: right;\n",
       "    }\n",
       "</style>\n",
       "<table border=\"1\" class=\"dataframe\">\n",
       "  <thead>\n",
       "    <tr style=\"text-align: right;\">\n",
       "      <th></th>\n",
       "      <th>CHAR_SEM_ACC</th>\n",
       "      <th>CHAR_SYN_ACC</th>\n",
       "      <th>CHAR_COM</th>\n",
       "      <th>CHAR_INT_CON</th>\n",
       "      <th>CHAR_EXT_CON</th>\n",
       "      <th>MIN_CHAR</th>\n",
       "    </tr>\n",
       "  </thead>\n",
       "  <tbody>\n",
       "    <tr>\n",
       "      <th>0</th>\n",
       "      <td>1.0000000000</td>\n",
       "      <td>1.0000000000</td>\n",
       "      <td>1.0000000000</td>\n",
       "      <td>1.0000000000</td>\n",
       "      <td>1.0000000000</td>\n",
       "      <td>1.0</td>\n",
       "    </tr>\n",
       "    <tr>\n",
       "      <th>1</th>\n",
       "      <td>1.0000000000</td>\n",
       "      <td>1.0000000000</td>\n",
       "      <td>1.0000000000</td>\n",
       "      <td>1.0000000000</td>\n",
       "      <td>1.0000000000</td>\n",
       "      <td>1.0</td>\n",
       "    </tr>\n",
       "    <tr>\n",
       "      <th>2</th>\n",
       "      <td>1.0000000000</td>\n",
       "      <td>1.0000000000</td>\n",
       "      <td>1.0000000000</td>\n",
       "      <td>1.0000000000</td>\n",
       "      <td>1.0000000000</td>\n",
       "      <td>1.0</td>\n",
       "    </tr>\n",
       "    <tr>\n",
       "      <th>3</th>\n",
       "      <td>1.0000000000</td>\n",
       "      <td>1.0000000000</td>\n",
       "      <td>1.0000000000</td>\n",
       "      <td>1.0000000000</td>\n",
       "      <td>1.0000000000</td>\n",
       "      <td>1.0</td>\n",
       "    </tr>\n",
       "    <tr>\n",
       "      <th>4</th>\n",
       "      <td>1.0000000000</td>\n",
       "      <td>1.0000000000</td>\n",
       "      <td>1.0000000000</td>\n",
       "      <td>1.0000000000</td>\n",
       "      <td>1.0000000000</td>\n",
       "      <td>1.0</td>\n",
       "    </tr>\n",
       "  </tbody>\n",
       "</table>\n",
       "</div>"
      ],
      "text/plain": [
       "   CHAR_SEM_ACC  CHAR_SYN_ACC      CHAR_COM  CHAR_INT_CON  CHAR_EXT_CON  \\\n",
       "0  1.0000000000  1.0000000000  1.0000000000  1.0000000000  1.0000000000   \n",
       "1  1.0000000000  1.0000000000  1.0000000000  1.0000000000  1.0000000000   \n",
       "2  1.0000000000  1.0000000000  1.0000000000  1.0000000000  1.0000000000   \n",
       "3  1.0000000000  1.0000000000  1.0000000000  1.0000000000  1.0000000000   \n",
       "4  1.0000000000  1.0000000000  1.0000000000  1.0000000000  1.0000000000   \n",
       "\n",
       "   MIN_CHAR  \n",
       "0       1.0  \n",
       "1       1.0  \n",
       "2       1.0  \n",
       "3       1.0  \n",
       "4       1.0  "
      ]
     },
     "execution_count": 9,
     "metadata": {},
     "output_type": "execute_result"
    }
   ],
   "source": [
    "X['MIN_CHAR'] = X.min(axis=1)\n",
    "X.head()"
   ]
  },
  {
   "cell_type": "code",
   "execution_count": 13,
   "id": "6e19b8f9-ea52-4a26-bd8e-6f66e9f43e8c",
   "metadata": {},
   "outputs": [
    {
     "data": {
      "text/html": [
       "<div>\n",
       "<style scoped>\n",
       "    .dataframe tbody tr th:only-of-type {\n",
       "        vertical-align: middle;\n",
       "    }\n",
       "\n",
       "    .dataframe tbody tr th {\n",
       "        vertical-align: top;\n",
       "    }\n",
       "\n",
       "    .dataframe thead th {\n",
       "        text-align: right;\n",
       "    }\n",
       "</style>\n",
       "<table border=\"1\" class=\"dataframe\">\n",
       "  <thead>\n",
       "    <tr style=\"text-align: right;\">\n",
       "      <th></th>\n",
       "      <th>U01</th>\n",
       "      <th>U02</th>\n",
       "      <th>U03</th>\n",
       "      <th>U04</th>\n",
       "      <th>U05</th>\n",
       "      <th>U06</th>\n",
       "      <th>U07</th>\n",
       "      <th>U08</th>\n",
       "      <th>U09</th>\n",
       "      <th>U10</th>\n",
       "    </tr>\n",
       "  </thead>\n",
       "  <tbody>\n",
       "    <tr>\n",
       "      <th>0</th>\n",
       "      <td>0</td>\n",
       "      <td>0</td>\n",
       "      <td>0</td>\n",
       "      <td>0</td>\n",
       "      <td>0</td>\n",
       "      <td>0</td>\n",
       "      <td>0</td>\n",
       "      <td>0</td>\n",
       "      <td>0</td>\n",
       "      <td>0</td>\n",
       "    </tr>\n",
       "    <tr>\n",
       "      <th>1</th>\n",
       "      <td>0</td>\n",
       "      <td>0</td>\n",
       "      <td>0</td>\n",
       "      <td>0</td>\n",
       "      <td>0</td>\n",
       "      <td>0</td>\n",
       "      <td>0</td>\n",
       "      <td>0</td>\n",
       "      <td>0</td>\n",
       "      <td>0</td>\n",
       "    </tr>\n",
       "    <tr>\n",
       "      <th>2</th>\n",
       "      <td>0</td>\n",
       "      <td>1</td>\n",
       "      <td>1</td>\n",
       "      <td>1</td>\n",
       "      <td>0</td>\n",
       "      <td>0</td>\n",
       "      <td>0</td>\n",
       "      <td>0</td>\n",
       "      <td>0</td>\n",
       "      <td>0</td>\n",
       "    </tr>\n",
       "    <tr>\n",
       "      <th>3</th>\n",
       "      <td>0</td>\n",
       "      <td>1</td>\n",
       "      <td>1</td>\n",
       "      <td>1</td>\n",
       "      <td>0</td>\n",
       "      <td>0</td>\n",
       "      <td>0</td>\n",
       "      <td>0</td>\n",
       "      <td>0</td>\n",
       "      <td>0</td>\n",
       "    </tr>\n",
       "    <tr>\n",
       "      <th>4</th>\n",
       "      <td>1</td>\n",
       "      <td>1</td>\n",
       "      <td>1</td>\n",
       "      <td>1</td>\n",
       "      <td>0</td>\n",
       "      <td>0</td>\n",
       "      <td>0</td>\n",
       "      <td>0</td>\n",
       "      <td>0</td>\n",
       "      <td>0</td>\n",
       "    </tr>\n",
       "  </tbody>\n",
       "</table>\n",
       "</div>"
      ],
      "text/plain": [
       "   U01  U02  U03  U04  U05  U06  U07  U08  U09  U10\n",
       "0    0    0    0    0    0    0    0    0    0    0\n",
       "1    0    0    0    0    0    0    0    0    0    0\n",
       "2    0    1    1    1    0    0    0    0    0    0\n",
       "3    0    1    1    1    0    0    0    0    0    0\n",
       "4    1    1    1    1    0    0    0    0    0    0"
      ]
     },
     "execution_count": 13,
     "metadata": {},
     "output_type": "execute_result"
    }
   ],
   "source": [
    "U = query(\"select U01, U02, U03, U04, U05, U06, U07, U08, U09, U10 from DQM_MDR\")\n",
    "U.head()"
   ]
  },
  {
   "cell_type": "code",
   "execution_count": 14,
   "id": "749214c3-853b-4124-8147-328f89396e43",
   "metadata": {},
   "outputs": [
    {
     "data": {
      "text/html": [
       "<div>\n",
       "<style scoped>\n",
       "    .dataframe tbody tr th:only-of-type {\n",
       "        vertical-align: middle;\n",
       "    }\n",
       "\n",
       "    .dataframe tbody tr th {\n",
       "        vertical-align: top;\n",
       "    }\n",
       "\n",
       "    .dataframe thead th {\n",
       "        text-align: right;\n",
       "    }\n",
       "</style>\n",
       "<table border=\"1\" class=\"dataframe\">\n",
       "  <thead>\n",
       "    <tr style=\"text-align: right;\">\n",
       "      <th></th>\n",
       "      <th>U01</th>\n",
       "      <th>U02</th>\n",
       "      <th>U03</th>\n",
       "      <th>U04</th>\n",
       "      <th>U05</th>\n",
       "      <th>U06</th>\n",
       "      <th>U07</th>\n",
       "      <th>U08</th>\n",
       "      <th>U09</th>\n",
       "      <th>U10</th>\n",
       "    </tr>\n",
       "  </thead>\n",
       "  <tbody>\n",
       "    <tr>\n",
       "      <th>0</th>\n",
       "      <td>0.0</td>\n",
       "      <td>0.0</td>\n",
       "      <td>0.0</td>\n",
       "      <td>0.0</td>\n",
       "      <td>0.0</td>\n",
       "      <td>0.0</td>\n",
       "      <td>0.0</td>\n",
       "      <td>0.0</td>\n",
       "      <td>0.0</td>\n",
       "      <td>0.0</td>\n",
       "    </tr>\n",
       "    <tr>\n",
       "      <th>1</th>\n",
       "      <td>0.0</td>\n",
       "      <td>0.0</td>\n",
       "      <td>0.0</td>\n",
       "      <td>0.0</td>\n",
       "      <td>0.0</td>\n",
       "      <td>0.0</td>\n",
       "      <td>0.0</td>\n",
       "      <td>0.0</td>\n",
       "      <td>0.0</td>\n",
       "      <td>0.0</td>\n",
       "    </tr>\n",
       "    <tr>\n",
       "      <th>2</th>\n",
       "      <td>0.0</td>\n",
       "      <td>1.0</td>\n",
       "      <td>1.0</td>\n",
       "      <td>1.0</td>\n",
       "      <td>0.0</td>\n",
       "      <td>0.0</td>\n",
       "      <td>0.0</td>\n",
       "      <td>0.0</td>\n",
       "      <td>0.0</td>\n",
       "      <td>0.0</td>\n",
       "    </tr>\n",
       "    <tr>\n",
       "      <th>3</th>\n",
       "      <td>0.0</td>\n",
       "      <td>1.0</td>\n",
       "      <td>1.0</td>\n",
       "      <td>1.0</td>\n",
       "      <td>0.0</td>\n",
       "      <td>0.0</td>\n",
       "      <td>0.0</td>\n",
       "      <td>0.0</td>\n",
       "      <td>0.0</td>\n",
       "      <td>0.0</td>\n",
       "    </tr>\n",
       "    <tr>\n",
       "      <th>4</th>\n",
       "      <td>1.0</td>\n",
       "      <td>1.0</td>\n",
       "      <td>1.0</td>\n",
       "      <td>1.0</td>\n",
       "      <td>0.0</td>\n",
       "      <td>0.0</td>\n",
       "      <td>0.0</td>\n",
       "      <td>0.0</td>\n",
       "      <td>0.0</td>\n",
       "      <td>0.0</td>\n",
       "    </tr>\n",
       "  </tbody>\n",
       "</table>\n",
       "</div>"
      ],
      "text/plain": [
       "   U01  U02  U03  U04  U05  U06  U07  U08  U09  U10\n",
       "0  0.0  0.0  0.0  0.0  0.0  0.0  0.0  0.0  0.0  0.0\n",
       "1  0.0  0.0  0.0  0.0  0.0  0.0  0.0  0.0  0.0  0.0\n",
       "2  0.0  1.0  1.0  1.0  0.0  0.0  0.0  0.0  0.0  0.0\n",
       "3  0.0  1.0  1.0  1.0  0.0  0.0  0.0  0.0  0.0  0.0\n",
       "4  1.0  1.0  1.0  1.0  0.0  0.0  0.0  0.0  0.0  0.0"
      ]
     },
     "execution_count": 14,
     "metadata": {},
     "output_type": "execute_result"
    }
   ],
   "source": [
    "M = U.mul(X['MIN_CHAR'], axis=0)\n",
    "M.head()"
   ]
  },
  {
   "cell_type": "code",
   "execution_count": 15,
   "id": "47f24de5-32c7-4177-9129-7ca69c38099a",
   "metadata": {},
   "outputs": [
    {
     "data": {
      "text/plain": [
       "U01    0.127010\n",
       "U02    0.299629\n",
       "U03    0.296153\n",
       "U04    0.289040\n",
       "U05    0.000000\n",
       "U06    0.000000\n",
       "U07    0.000000\n",
       "U08    0.000000\n",
       "U09    0.000000\n",
       "U10    0.000000\n",
       "dtype: float64"
      ]
     },
     "execution_count": 15,
     "metadata": {},
     "output_type": "execute_result"
    }
   ],
   "source": [
    "A = M.mean(axis=0)\n",
    "A"
   ]
  },
  {
   "cell_type": "code",
   "execution_count": 16,
   "id": "23d6ae68-6758-4db5-b629-76114d80c6f4",
   "metadata": {},
   "outputs": [],
   "source": [
    "SMS = 0.8\n",
    "post = 15\n",
    "x_sell_resp = 0.1\n",
    "x_sell_resp_fup = 0.2\n",
    "ann_premium = 10000\n",
    "up_sell_resp = 0.3\n",
    "up_sell_resp_fup = 0.5\n",
    "single_premium = 100000\n",
    "ret_resp = 0.5\n",
    "ret_ann_premium = 10000\n",
    "daily_rate = 6000\n",
    "MD = 5 * 80\n",
    "n = 0.1 * 383131"
   ]
  },
  {
   "cell_type": "code",
   "execution_count": 17,
   "id": "289a4eed-4f8f-4aad-a4d9-1fdd69610c0a",
   "metadata": {},
   "outputs": [],
   "source": [
    "C1 = 0"
   ]
  },
  {
   "cell_type": "code",
   "execution_count": 18,
   "id": "ec9fce7d-21c0-4997-a456-24f7c7dd9150",
   "metadata": {},
   "outputs": [
    {
     "data": {
      "text/plain": [
       "33446942.729318798"
      ]
     },
     "execution_count": 18,
     "metadata": {},
     "output_type": "execute_result"
    }
   ],
   "source": [
    "C2 = ((n * ann_premium) * x_sell_resp_fup) - ((n * ann_premium) * (x_sell_resp + (x_sell_resp_fup - x_sell_resp) * A[0]))\n",
    "C2"
   ]
  },
  {
   "cell_type": "code",
   "execution_count": 19,
   "id": "1ab51a17-8418-4a28-bfbb-05d0a33da1ad",
   "metadata": {},
   "outputs": [],
   "source": [
    "C3 = 0"
   ]
  },
  {
   "cell_type": "code",
   "execution_count": 20,
   "id": "eb36b21e-a34a-47e7-a87d-c647419da0cd",
   "metadata": {},
   "outputs": [],
   "source": [
    "C4 = 0"
   ]
  },
  {
   "cell_type": "code",
   "execution_count": 21,
   "id": "a74a6e28-c03b-49a5-ad81-e1d77e968948",
   "metadata": {},
   "outputs": [
    {
     "data": {
      "text/plain": [
       "2400000"
      ]
     },
     "execution_count": 21,
     "metadata": {},
     "output_type": "execute_result"
    }
   ],
   "source": [
    "PC = MD * daily_rate\n",
    "PC"
   ]
  },
  {
   "cell_type": "code",
   "execution_count": 22,
   "id": "57dd25a8-511c-4997-ae20-9686779e5453",
   "metadata": {},
   "outputs": [
    {
     "data": {
      "text/plain": [
       "33446942.729318798"
      ]
     },
     "execution_count": 22,
     "metadata": {},
     "output_type": "execute_result"
    }
   ],
   "source": [
    "TNQC = C1 + C2 + C3 + C4\n",
    "TNQC"
   ]
  },
  {
   "cell_type": "code",
   "execution_count": 23,
   "id": "c7e18b63-82b0-4d68-8aca-2c27a253561a",
   "metadata": {},
   "outputs": [
    {
     "data": {
      "text/plain": [
       "12.936226137216165"
      ]
     },
     "execution_count": 23,
     "metadata": {},
     "output_type": "execute_result"
    }
   ],
   "source": [
    "ROI = (TNQC - PC) / PC\n",
    "ROI"
   ]
  },
  {
   "cell_type": "code",
   "execution_count": null,
   "id": "80ab9580-badb-4af6-8ce4-90b4d1861488",
   "metadata": {},
   "outputs": [],
   "source": []
  },
  {
   "cell_type": "code",
   "execution_count": null,
   "id": "e9384e61-468a-4816-ba8e-c4671dab7575",
   "metadata": {},
   "outputs": [],
   "source": []
  }
 ],
 "metadata": {
  "kernelspec": {
   "display_name": "Python 3 (ipykernel)",
   "language": "python",
   "name": "python3"
  },
  "language_info": {
   "codemirror_mode": {
    "name": "ipython",
    "version": 3
   },
   "file_extension": ".py",
   "mimetype": "text/x-python",
   "name": "python",
   "nbconvert_exporter": "python",
   "pygments_lexer": "ipython3",
   "version": "3.8.10"
  }
 },
 "nbformat": 4,
 "nbformat_minor": 5
}
